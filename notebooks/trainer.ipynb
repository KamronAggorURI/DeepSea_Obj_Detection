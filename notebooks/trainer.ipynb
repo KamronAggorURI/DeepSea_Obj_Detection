{
 "cells": [
  {
   "cell_type": "markdown",
   "metadata": {},
   "source": [
    "# File Util\n",
    "Setup datasets, but rather than mounting a Google Drive we utilize data from ./datasets.\n",
    "\n",
    "By uploading some annotated data we can split into train-test-validation scheme."
   ]
  },
  {
   "cell_type": "markdown",
   "metadata": {},
   "source": [
    "# Annotated Data Structure"
   ]
  },
  {
   "cell_type": "code",
   "execution_count": 3,
   "metadata": {},
   "outputs": [
    {
     "data": {
      "application/vnd.jupyter.widget-view+json": {
       "model_id": "6bd25fbd595b4b2f823c575965f5e672",
       "version_major": 2,
       "version_minor": 0
      },
      "text/plain": [
       "Text(value='', description='Dataset Name:')"
      ]
     },
     "metadata": {},
     "output_type": "display_data"
    },
    {
     "data": {
      "application/vnd.jupyter.widget-view+json": {
       "model_id": "9e1c8e4aad7a411bacf124af8ffdf181",
       "version_major": 2,
       "version_minor": 0
      },
      "text/plain": [
       "FileUpload(value=(), description='Upload', multiple=True)"
      ]
     },
     "metadata": {},
     "output_type": "display_data"
    }
   ],
   "source": [
    "import os\n",
    "import shutil\n",
    "from pathlib import Path\n",
    "from sklearn.model_selection import train_test_split\n",
    "from IPython.display import display\n",
    "import ipywidgets as widgets\n",
    "\n",
    "# Function to upload files and split them into train/val/test sets\n",
    "def upload_and_split_data():\n",
    "    uploader = widgets.FileUpload(accept='', multiple=True)\n",
    "    dataset_name = widgets.Text(description='Dataset Name:')\n",
    "    display(dataset_name, uploader)\n",
    "\n",
    "    # Function to handle file upload and splitting\n",
    "    def on_upload_change(change):\n",
    "        if len(uploader.value) == 0 or dataset_name.value.strip() == \"\":\n",
    "            print(\"Please provide a dataset name and upload files.\")\n",
    "            return\n",
    "\n",
    "        base_dir = Path(f\"./datasets/{dataset_name.value.strip()}\")\n",
    "        images_dir = base_dir / \"images\"\n",
    "        labels_dir = base_dir / \"labels\"\n",
    "        images_dir.mkdir(parents=True, exist_ok=True)\n",
    "        labels_dir.mkdir(parents=True, exist_ok=True)\n",
    "\n",
    "        # Save uploaded files\n",
    "        filepaths = []\n",
    "        for fname, fileinfo in uploader.value.items():\n",
    "            fpath = images_dir / fname\n",
    "            with open(fpath, 'wb') as f:\n",
    "                f.write(fileinfo['content'])\n",
    "            filepaths.append(fpath)\n",
    "\n",
    "        # Split files\n",
    "        train_files, testval_files = train_test_split(filepaths, test_size=0.3, random_state=42)\n",
    "        val_files, test_files = train_test_split(testval_files, test_size=0.5, random_state=42)\n",
    "\n",
    "        for split, files in zip(['train', 'val', 'test'], [train_files, val_files, test_files]):\n",
    "            split_dir = images_dir.parent / f\"images/{split}\"\n",
    "            split_dir.mkdir(parents=True, exist_ok=True)\n",
    "            for f in files:\n",
    "                shutil.move(str(f), split_dir / f.name)\n",
    "\n",
    "        # Generate YOLO config YAML\n",
    "        yaml_content = f\"\"\"train: {images_dir.parent}/images/train\n",
    "val: {images_dir.parent}/images/val\n",
    "test: {images_dir.parent}/images/test\n",
    "\n",
    "nc: 1  # number of classes, update as needed\n",
    "names: ['class0']  # update with actual class names\n",
    "\"\"\"\n",
    "        yaml_path = base_dir / \"data.yaml\"\n",
    "        with open(yaml_path, \"w\") as f:\n",
    "            f.write(yaml_content)\n",
    "\n",
    "        print(f\"Data split into train/val/test in {base_dir}. YOLO config written to {yaml_path}\")\n",
    "\n",
    "    uploader.observe(on_upload_change, names='value')\n",
    "\n",
    "upload_and_split_data()"
   ]
  },
  {
   "cell_type": "code",
   "execution_count": null,
   "metadata": {},
   "outputs": [],
   "source": []
  },
  {
   "cell_type": "code",
   "execution_count": null,
   "metadata": {},
   "outputs": [],
   "source": []
  }
 ],
 "metadata": {
  "kernelspec": {
   "display_name": ".venv",
   "language": "python",
   "name": "python3"
  },
  "language_info": {
   "codemirror_mode": {
    "name": "ipython",
    "version": 3
   },
   "file_extension": ".py",
   "mimetype": "text/x-python",
   "name": "python",
   "nbconvert_exporter": "python",
   "pygments_lexer": "ipython3",
   "version": "3.13.3"
  }
 },
 "nbformat": 4,
 "nbformat_minor": 2
}
